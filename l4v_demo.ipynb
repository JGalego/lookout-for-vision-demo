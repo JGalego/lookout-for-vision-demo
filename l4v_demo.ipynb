{
 "cells": [
  {
   "cell_type": "markdown",
   "metadata": {},
   "source": [
    "## Amazon Lookout for Vision"
   ]
  },
  {
   "cell_type": "markdown",
   "metadata": {},
   "source": [
    "### Overview\n",
    "\n",
    "A simple application that uses [Amazon Lookout for Vision](https://aws.amazon.com/lookout-for-vision/) to spot defects and detect anomalies.\n",
    "\n",
    "![Demo Application](images/demo_app.png)"
   ]
  },
  {
   "cell_type": "markdown",
   "metadata": {},
   "source": [
    "### What is Amazon Lookout for Vision?\n",
    "\n",
    "> *Amazon Lookout for Vision is a machine learning (ML) service that <mark>spots defects and anomalies in visual representations using computer vision (CV)</mark>. With Amazon Lookout for Vision, manufacturing companies can increase quality and reduce operational costs by quickly identifying differences in images of objects at scale. For example, Amazon Lookout for Vision can be used to identify missing components in products, damage to vehicles or structures, irregularities in production lines, miniscule defects in silicon wafers, and other similar problems. <mark>Amazon Lookout for Vision uses ML to see and understand images from any camera as a person would, but with an even higher degree of accuracy and at a much larger scale</mark>. Amazon Lookout for Vision allows customers to eliminate the need for costly and inconsistent manual inspection, while improving quality control, defect and damage assessment, and compliance. In minutes, you can begin using Amazon Lookout for Vision to automate inspection of images and objects–with no machine learning expertise required.*\n",
    "\n",
    "For more information, please visit [Amazon Lookout for Vision](https://aws.amazon.com/lookout-for-vision/)\n",
    "\n",
    "![Lookout for Vision](images/lookout_for_vision.png)"
   ]
  },
  {
   "cell_type": "markdown",
   "metadata": {},
   "source": [
    "### Preparation\n",
    "\n",
    "Define some constants"
   ]
  },
  {
   "cell_type": "code",
   "execution_count": null,
   "metadata": {},
   "outputs": [],
   "source": [
    "AWS_DEFAULT_REGION = 'eu-central-1'\n",
    "DEFAULT_IMAGES_FOLDER = 'extra_images'\n",
    "DEFAULT_NOISY_FOLDER = 'noisy_images'"
   ]
  },
  {
   "cell_type": "markdown",
   "metadata": {},
   "source": [
    "Add logging configuration"
   ]
  },
  {
   "cell_type": "code",
   "execution_count": null,
   "metadata": {},
   "outputs": [],
   "source": [
    "import logging\n",
    "\n",
    "logging.basicConfig(format='%(asctime)s %(levelname)s: %(message)s',\n",
    "                    level=logging.INFO,\n",
    "                    datefmt='%Y-%m-%d %H:%M:%S')"
   ]
  },
  {
   "cell_type": "markdown",
   "metadata": {},
   "source": [
    "Install requirements"
   ]
  },
  {
   "cell_type": "code",
   "execution_count": null,
   "metadata": {},
   "outputs": [],
   "source": [
    "!pip install -q -r requirements.txt\n",
    "!pip install -q -r requirements_jupyter.txt"
   ]
  },
  {
   "cell_type": "markdown",
   "metadata": {},
   "source": [
    "Setup AWS credentials"
   ]
  },
  {
   "cell_type": "code",
   "execution_count": null,
   "metadata": {},
   "outputs": [],
   "source": [
    "import os\n",
    "from getpass import getpass\n",
    "\n",
    "# Get AWS credentials\n",
    "if(set(['AWS_ACCESS_KEY', 'AWS_SECRET_ACCESS_KEY', 'AWS_SECRET_ACCESS_TOKEN']) <= set(os.environ.keys())):\n",
    "    logging.info(\"Detected AWS credentials\")\n",
    "else:\n",
    "    os.environ['AWS_ACCESS_KEY'] = getpass('+ AWS_ACCESS_KEY: ')\n",
    "    os.environ['AWS_SECRET_ACCESS_KEY'] = getpass('+ AWS_SECRET_ACCESS_KEY: ')\n",
    "    os.environ['AWS_SECRET_ACCESS_TOKEN'] = getpass('+ AWS_SECRET_ACCESS_TOKEN: ')\n",
    "\n",
    "# Set default AWS region\n",
    "os.environ['AWS_DEFAULT_REGION'] = input(\"+ AWS_DEFAULT_REGION (%s): \" % AWS_DEFAULT_REGION) or AWS_DEFAULT_REGION"
   ]
  },
  {
   "cell_type": "markdown",
   "metadata": {},
   "source": [
    "### Data\n",
    "\n",
    "Download extra images"
   ]
  },
  {
   "cell_type": "code",
   "execution_count": null,
   "metadata": {
    "scrolled": true
   },
   "outputs": [],
   "source": [
    "# Whether to download extra images\n",
    "download_images = True\n",
    "\n",
    "# Check if destination exists\n",
    "if os.path.isdir(DEFAULT_IMAGES_FOLDER):\n",
    "    logging.info(\"Destination path '{}' already exists.\".format(DEFAULT_IMAGES_FOLDER))\n",
    "    download_images = input(\"Continue (y/n)? \") == 'y'\n",
    "\n",
    "# Download images from S3 bucket\n",
    "if download_images:\n",
    "    logging.info(\"Downloading extra images\")\n",
    "    os.system('aws s3 cp s3://circuitboarddataset/circuit_board/extra_images/ {}/ --recursive'.format(DEFAULT_IMAGES_FOLDER))"
   ]
  },
  {
   "cell_type": "markdown",
   "metadata": {},
   "source": [
    "### Demo\n",
    "\n",
    "Select a project, model version and the location of the extra images"
   ]
  },
  {
   "cell_type": "code",
   "execution_count": null,
   "metadata": {},
   "outputs": [],
   "source": [
    "import boto3\n",
    "import l4v_app\n",
    "\n",
    "from glob import glob\n",
    "\n",
    "# Initialize Lookout for Vision client\n",
    "lookout_vision = boto3.client(\n",
    "    'lookoutvision',\n",
    "    aws_access_key_id=os.environ['AWS_ACCESS_KEY'],\n",
    "    aws_secret_access_key=os.environ['AWS_SECRET_ACCESS_KEY'],\n",
    "    aws_session_token=os.environ['AWS_SECRET_ACCESS_TOKEN'],\n",
    "    region_name=os.environ['AWS_DEFAULT_REGION']\n",
    ")\n",
    "\n",
    "# Retrieve list of projects\n",
    "projects = l4v_app.list_projects(lookout_vision)\n",
    "\n",
    "# Get project name from user\n",
    "project_name = input('+ Project Name %s: ' % projects) or projects[0]\n",
    "\n",
    "# Retrieve list of models for the selected project\n",
    "models = l4v_app.list_models(lookout_vision, project_name)\n",
    "\n",
    "# Get project name from user\n",
    "model_version = input('+ Model Version %s: ' % models) or models[0]\n",
    "\n",
    "# Get images folder\n",
    "images_folder = input('+ Images (%s): ' % DEFAULT_IMAGES_FOLDER) or DEFAULT_IMAGES_FOLDER"
   ]
  },
  {
   "cell_type": "markdown",
   "metadata": {},
   "source": [
    "Display some information about the project"
   ]
  },
  {
   "cell_type": "code",
   "execution_count": null,
   "metadata": {
    "scrolled": true
   },
   "outputs": [],
   "source": [
    "import json\n",
    "\n",
    "print(json.dumps(l4v_app.describe_project(lookout_vision, project_name), indent=4, sort_keys=True, default=str))"
   ]
  },
  {
   "cell_type": "markdown",
   "metadata": {},
   "source": [
    "Is the model running?"
   ]
  },
  {
   "cell_type": "code",
   "execution_count": null,
   "metadata": {},
   "outputs": [],
   "source": [
    "print(l4v_app.describe_model(lookout_vision, project_name, model_version)['StatusMessage'])"
   ]
  },
  {
   "cell_type": "markdown",
   "metadata": {},
   "source": [
    "Test the model on a single image"
   ]
  },
  {
   "cell_type": "code",
   "execution_count": null,
   "metadata": {},
   "outputs": [],
   "source": [
    "%timeit\n",
    "\n",
    "args = [\n",
    "    \"--project\", project_name,\n",
    "    \"--model\", model_version,\n",
    "    \"--images\", glob(images_folder + '/*')[0],\n",
    "    \"--wait\", '10',\n",
    "    \"--display\"  # comment to remove display\n",
    "]\n",
    "l4v_app.main(lookout_vision, args)"
   ]
  },
  {
   "cell_type": "markdown",
   "metadata": {},
   "source": [
    "Run anomaly detection on all images and save the results"
   ]
  },
  {
   "cell_type": "code",
   "execution_count": null,
   "metadata": {},
   "outputs": [],
   "source": [
    "%timeit\n",
    "\n",
    "args = [\n",
    "    \"--project\", project_name,\n",
    "    \"--model\", model_version,\n",
    "    \"--images\", images_folder,\n",
    "    \"--save\", 'results_original.csv'\n",
    "]\n",
    "\n",
    "l4v_app.main(lookout_vision, args)"
   ]
  },
  {
   "cell_type": "markdown",
   "metadata": {},
   "source": [
    "Load results from CSV file"
   ]
  },
  {
   "cell_type": "code",
   "execution_count": null,
   "metadata": {
    "scrolled": false
   },
   "outputs": [],
   "source": [
    "import pandas as pd\n",
    "\n",
    "# Load and process results\n",
    "results = pd.read_csv('results_original.csv')\n",
    "results['prediction'] = results['prediction'].str.lower()\n",
    "results['actual'] = results['image'].str.extract(r'(anomaly|normal)')\n",
    "results.head()"
   ]
  },
  {
   "cell_type": "markdown",
   "metadata": {},
   "source": [
    "Display confidence histogram"
   ]
  },
  {
   "cell_type": "code",
   "execution_count": null,
   "metadata": {},
   "outputs": [],
   "source": [
    "(results.confidence * 100).hist(bins=20);"
   ]
  },
  {
   "cell_type": "markdown",
   "metadata": {},
   "source": [
    "Display the confusion matrix"
   ]
  },
  {
   "cell_type": "code",
   "execution_count": null,
   "metadata": {
    "scrolled": true
   },
   "outputs": [],
   "source": [
    "import seaborn as sn\n",
    "import matplotlib.pyplot as plt\n",
    "\n",
    "%matplotlib inline\n",
    "\n",
    "confusion_matrix = pd.crosstab(results['actual'],\n",
    "                               results['prediction'],\n",
    "                               rownames=['Actual'],\n",
    "                               colnames=['Predicted'])\n",
    "\n",
    "sn.heatmap(confusion_matrix, annot=True, fmt='g')\n",
    "plt.show()"
   ]
  },
  {
   "cell_type": "markdown",
   "metadata": {},
   "source": [
    "Which images where misclassified?"
   ]
  },
  {
   "cell_type": "code",
   "execution_count": null,
   "metadata": {
    "scrolled": true
   },
   "outputs": [],
   "source": [
    "results[results['prediction'] != results['actual']]"
   ]
  },
  {
   "cell_type": "markdown",
   "metadata": {},
   "source": [
    "Here's an idea: let's use a cleaned up version of a [random function I found on StackOverflow](https://stackoverflow.com/questions/22937589/how-to-add-noise-gaussian-salt-and-pepper-etc-to-image-in-python-with-opencv) to generate more images 😅"
   ]
  },
  {
   "cell_type": "code",
   "execution_count": null,
   "metadata": {},
   "outputs": [],
   "source": [
    "import numpy as np\n",
    "\n",
    "def noisy(image, noise_type, **kwargs):\n",
    "    \"\"\"Adds noise to an image\"\"\"\n",
    "    # Get image dimensions\n",
    "    row, col, chan = image.shape\n",
    "\n",
    "    if noise_type == \"gauss\":\n",
    "        logging.info('Adding gaussian noise (mean: %s, var: %s)', kwargs['mean'], kwargs['var'])\n",
    "        gauss = np.random.normal(kwargs['mean'], kwargs['var']**0.5, (row, col, chan))\n",
    "        gauss = gauss.reshape(row, col, chan)\n",
    "        return image + gauss\n",
    "\n",
    "    if noise_type == \"s&p\":\n",
    "        logging.info('Adding salt & pepper noise (s_vs_p: %s, amount: %s)', kwargs['s_vs_p'], kwargs['amount'])\n",
    "        out = np.copy(image)\n",
    "        # Salt mode\n",
    "        num_salt = np.ceil(kwargs['amount']*image.size*kwargs['s_vs_p'])\n",
    "        coords = [np.random.randint(0, i - 1, int(num_salt)) for i in image.shape]\n",
    "        out[tuple(coords)] = 1\n",
    "        # Pepper mode\n",
    "        num_pepper = np.ceil(kwargs['amount']*image.size*(1.-kwargs['s_vs_p']))\n",
    "        coords = [np.random.randint(0, i - 1, int(num_pepper)) for i in image.shape]\n",
    "        out[tuple(coords)] = 0\n",
    "        return out\n",
    "\n",
    "    if noise_type == \"poisson\":\n",
    "        logging.info('Adding poisson noise')\n",
    "        vals = len(np.unique(image))\n",
    "        vals = 2**np.ceil(np.log2(vals))\n",
    "        return np.random.poisson(image * vals) / float(vals)\n",
    "\n",
    "    if noise_type == \"speckle\":\n",
    "        logging.info('Adding speckle noise')\n",
    "        gauss = np.random.randn(row, col, chan)\n",
    "        gauss = gauss.reshape(row, col, chan)\n",
    "        return image + image * gauss\n",
    "\n",
    "    logging.error('Invalid noise type: %s', noise_type)\n",
    "    logging.info('Returning original image')\n",
    "    return image"
   ]
  },
  {
   "cell_type": "markdown",
   "metadata": {},
   "source": [
    "While we're at it, we can also add some *flips* and *rotations*"
   ]
  },
  {
   "cell_type": "code",
   "execution_count": null,
   "metadata": {
    "scrolled": true
   },
   "outputs": [],
   "source": [
    "import cv2\n",
    "from imutils import rotate\n",
    "\n",
    "# Where to place the noisy images\n",
    "target_folder = input('Target Folder: ') or DEFAULT_NOISY_FOLDER\n",
    "if not os.path.isdir(target_folder):\n",
    "    logging.info('Creating directory %s', target_folder)\n",
    "    os.mkdir(target_folder)\n",
    "\n",
    "for img in glob(images_folder + '/*'):\n",
    "    # Read image\n",
    "    logging.info('Processing image %s', img)\n",
    "    image = cv2.imread(img)\n",
    "\n",
    "    # Add gaussian noise\n",
    "    gaussian = noisy(image, 'gauss', mean=0.0, var=1.5)\n",
    "\n",
    "    # Add salt&pepper noise\n",
    "    salt_pepper = noisy(image, 's&p', s_vs_p=0.5, amount=0.04)\n",
    "\n",
    "    # Add poisson noise\n",
    "    poisson = noisy(image, 'poisson')\n",
    "\n",
    "    # Add speckle noise\n",
    "    # Problem 1: speckled circuitboard images are too big to send via API\n",
    "    speckle = noisy(image, 'speckle')\n",
    "    # Problem 2: DetectAnomalies will return an error if we resize the image\n",
    "    # https://qiita.com/ma2shita/items/fb61de364ab316ff47a4\n",
    "    #speckle = cv2.resize(speckle, (speckle.shape[0] // 2, speckle.shape[1] // 2), interpolation = cv2.INTER_AREA)\n",
    "    # Solution: Save with lower quality\n",
    "\n",
    "    # Flip and rotate images\n",
    "    logging.info(\"Flipping image (vertical)\")\n",
    "    flip_vertical = cv2.flip(image, 0)\n",
    "    logging.info(\"Flipping image (horizontal)\")\n",
    "    flip_horizontal = cv2.flip(image, 1)\n",
    "    logging.info(\"Rotating images\")\n",
    "    rotated = rotate(image, 5)\n",
    "    \n",
    "    # Save results\n",
    "    logging.info('Saving images')\n",
    "    cv2.imwrite(target_folder + '/gaussian_' + os.path.basename(img), gaussian)\n",
    "    cv2.imwrite(target_folder + '/sp_' + os.path.basename(img), salt_pepper)\n",
    "    cv2.imwrite(target_folder + '/poisson_' + os.path.basename(img), poisson)\n",
    "    cv2.imwrite(target_folder + '/speckle_' + os.path.basename(img), speckle, [int(cv2.IMWRITE_JPEG_QUALITY), 75])\n",
    "    cv2.imwrite(target_folder + '/flipv_' + os.path.basename(img), flip_vertical)\n",
    "    cv2.imwrite(target_folder + '/fliph_' + os.path.basename(img), flip_horizontal)\n",
    "    cv2.imwrite(target_folder + '/rotated_' + os.path.basename(img), rotated)"
   ]
  },
  {
   "cell_type": "markdown",
   "metadata": {},
   "source": [
    "and check how the model behaves"
   ]
  },
  {
   "cell_type": "code",
   "execution_count": null,
   "metadata": {},
   "outputs": [],
   "source": [
    "%timeit\n",
    "\n",
    "args = [\n",
    "    \"--project\", project_name,\n",
    "    \"--model\", model_version,\n",
    "    \"--images\", target_folder,\n",
    "    \"--save\", 'results_augmented.csv'\n",
    "]\n",
    "\n",
    "l4v_app.main(lookout_vision, args)"
   ]
  },
  {
   "cell_type": "code",
   "execution_count": null,
   "metadata": {},
   "outputs": [],
   "source": [
    "import pandas as pd\n",
    "\n",
    "# Load and process results\n",
    "aug_results = pd.read_csv('results_augmented.csv')\n",
    "aug_results['prediction'] = aug_results['prediction'].str.lower()\n",
    "aug_results['actual'] = aug_results['image'].str.extract(r'(anomaly|normal)')\n",
    "aug_results.head()"
   ]
  },
  {
   "cell_type": "code",
   "execution_count": null,
   "metadata": {},
   "outputs": [],
   "source": [
    "# Filter out low confidence predictions\n",
    "safe_results = aug_results[aug_results['confidence'] > 0.95]\n",
    "\n",
    "confusion_matrix = pd.crosstab(safe_results['actual'],\n",
    "                               safe_results['prediction'],\n",
    "                               rownames=['Actual'],\n",
    "                               colnames=['Predicted'])\n",
    "\n",
    "sn.heatmap(confusion_matrix, annot=True, fmt='g')\n",
    "plt.show()"
   ]
  },
  {
   "cell_type": "markdown",
   "metadata": {},
   "source": [
    "### References\n",
    "\n",
    "* (AWS) [AWS for Industrial](https://aws.amazon.com/industrial/)\n",
    "* (AWS) [Amazon Lookout for Vision – General Information](https://aws.amazon.com/lookout-for-vision/)\n",
    "* (AWS) [Amazon Lookout for Vision – Developer Guide](https://docs.aws.amazon.com/lookout-for-vision/latest/developer-guide/what-is.html)\n",
    "* (AWS) [Amazon Lookout for Vision – API Reference](https://docs.aws.amazon.com/lookout-for-vision/latest/APIReference/Welcome.html)\n",
    "* (AWS) [AWS CLI - `lookoutvision`](https://docs.aws.amazon.com/cli/latest/reference/lookoutvision/index.html)\n",
    "* (AWS) [Boto3 – `LookoutForVision`](https://boto3.amazonaws.com/v1/documentation/api/latest/reference/services/lookoutvision.html)\n",
    "* (AWS) [AWS SDK for Go - `lookoutforvision`](https://docs.aws.amazon.com/sdk-for-go/api/service/lookoutforvision/)\n",
    "* (AWS) [AWS Announces Five Industrial Machine Learning Services](https://press.aboutamazon.com/news-releases/news-release-details/aws-announces-five-industrial-machine-learning-services)\n",
    "* (AWS) [New ML Service Simplifies Defect Detection for Manufacturing](https://aws.amazon.com/blogs/aws/amazon-lookout-for-vision-new-machine-learning-service-that-simplifies-defect-detection-for-manufacturing/)\n",
    "* (AWS) [How a ‘Think Big’ idea helped bring Lookout for Vision to Life](https://www.amazon.science/latest-news/how-a-think-big-idea-helped-bring-lookout-for-vision-to-life)\n",
    "* (AWS) [Amazon Lookout for Vision – Pricing](https://aws.amazon.com/lookout-for-vision/pricing/)\n",
    "* (GitHub) [Amazon Lookout for Vision Demo](https://github.com/aws-samples/amazon-lookout-for-vision-demo)\n",
    "* (1Strategy) [Quick Take: Amazon Lookout for Vision](https://www.1strategy.com/blog/2020/12/07/quick-take-amazon-lookout-for-vision/)\n",
    "* (YouTube) [AWS on Air 2020: What’s Next ft. Amazon Lookout for Vision](https://www.youtube.com/watch?v=fOh-p9P8TFo)\n",
    "* (Provectus) [Defect Detection with Amazon Lookout for Vision](https://provectus.com/defect-detection-amazon-lookout-for-vision/)\n",
    "\n",
    "![Assembly Line](images/assembly_line.gif)"
   ]
  }
 ],
 "metadata": {
  "kernelspec": {
   "display_name": "Python 3",
   "language": "python",
   "name": "python3"
  },
  "language_info": {
   "codemirror_mode": {
    "name": "ipython",
    "version": 3
   },
   "file_extension": ".py",
   "mimetype": "text/x-python",
   "name": "python",
   "nbconvert_exporter": "python",
   "pygments_lexer": "ipython3",
   "version": "3.8.3"
  }
 },
 "nbformat": 4,
 "nbformat_minor": 4
}
